{
 "cells": [
  {
   "cell_type": "code",
   "execution_count": 1,
   "id": "349263e3-4e60-40c0-b75d-320a46fc05d9",
   "metadata": {},
   "outputs": [],
   "source": [
    "import wandb\n",
    "from sklearn.model_selection import train_test_split\n",
    "import os,cv2\n",
    "import numpy as np\n",
    "import matplotlib.pyplot as plt\n",
    "from torch.nn import *\n",
    "import torch,torchvision\n",
    "from tqdm import tqdm\n",
    "device = 'cuda'\n",
    "PROJECT_NAME = 'MNIST-Clf'"
   ]
  },
  {
   "cell_type": "code",
   "execution_count": 2,
   "id": "4e91c628-3525-4549-9506-e7b46f508667",
   "metadata": {},
   "outputs": [],
   "source": [
    "def load_data():\n",
    "    labels = {}\n",
    "    labels_r = {}\n",
    "    idx = -1\n",
    "    data = []\n",
    "    for folder in tqdm(os.listdir('./data/')):\n",
    "        idx += 1\n",
    "        labels[folder] = idx\n",
    "        labels_r[idx] = folder\n",
    "        for file in os.listdir(f'./data/{folder}')[:1000]:\n",
    "            img = cv2.imread(f'./data/{folder}/{file}')\n",
    "            img = cv2.resize(img,(112,112))\n",
    "            img = img / 255.0\n",
    "            data.append([img,idx])\n",
    "    np.random.shuffle(data)\n",
    "    np.random.shuffle(data)\n",
    "    X = []\n",
    "    y = []\n",
    "    for d in data:\n",
    "        X.append(d[0])\n",
    "        y.append(d[1])\n",
    "    X_train,X_test,y_train,y_test = train_test_split(X,y,shuffle=False,test_size=0.125)\n",
    "    return X_train,X_test,y_train,y_test,X,y,labels,labels_r,idx,data"
   ]
  },
  {
   "cell_type": "code",
   "execution_count": 3,
   "id": "4e42eb63-7123-4d7f-9d52-0dbab15a0eef",
   "metadata": {},
   "outputs": [
    {
     "name": "stderr",
     "output_type": "stream",
     "text": [
      "100%|███████████████████████████████████████████| 10/10 [00:01<00:00,  6.73it/s]\n"
     ]
    }
   ],
   "source": [
    "X_train,X_test,y_train,y_test,X,y,labels,labels_r,idx,data = load_data()"
   ]
  },
  {
   "cell_type": "code",
   "execution_count": 4,
   "id": "5aa902db-12ca-4e59-bd77-887a4d639f83",
   "metadata": {},
   "outputs": [],
   "source": [
    "X_train = torch.from_numpy(np.array(X_train)).view(-1,3,112,112).to(device).float()\n",
    "X_test = torch.from_numpy(np.array(X_test)).view(-1,3,112,112).to(device).float()\n",
    "y_train = torch.from_numpy(np.array(y_train)).to(device)\n",
    "y_test = torch.from_numpy(np.array(y_test)).to(device)"
   ]
  },
  {
   "cell_type": "code",
   "execution_count": 5,
   "id": "6c7bb3ec-c1f6-4bd9-87dc-2fdbac191691",
   "metadata": {},
   "outputs": [],
   "source": [
    "def get_loss(model,X,y,criterion):\n",
    "    preds = model(X)\n",
    "    loss = criterion(preds,y)\n",
    "    return loss.item()"
   ]
  },
  {
   "cell_type": "code",
   "execution_count": 6,
   "id": "21658a2d-1e80-4dc2-a7d2-216ffa5db040",
   "metadata": {},
   "outputs": [],
   "source": [
    "def get_accuracy(model,X,y):\n",
    "    correct = 0\n",
    "    total = 0\n",
    "    preds = model(X)\n",
    "    for pred,y_batch in zip(preds,y):\n",
    "        pred = int(torch.argmax(pred))\n",
    "        y_batch = int(torch.argmax(y_batch))\n",
    "        if pred == y_batch:\n",
    "            correct += 1\n",
    "        total += 1\n",
    "    acc = round(correct/total,3)*100\n",
    "    return acc"
   ]
  },
  {
   "cell_type": "code",
   "execution_count": 7,
   "id": "a2edfc58-5a0d-43cc-b426-135d70ae8931",
   "metadata": {},
   "outputs": [],
   "source": [
    "def get_pred(model):\n",
    "    model.eval()\n",
    "    for file in os.listdir('./test_data/'):\n",
    "        img = cv2.imread(f'./test_data/{file}')\n",
    "        img = cv2.resize(img,(112,112)) / 255.0\n",
    "        img = torch.from_numpy(np.array(img)).to(device)\n",
    "        pred = model(img)\n",
    "        plt.figure(figsize=(12,6))\n",
    "        plt.imshow(img)\n",
    "        plt.title(f'{labels_r[int(torch.argmax(pred))]}')\n",
    "        plt.savefig(f'./preds/{file}')\n",
    "        plt.close()\n",
    "    model.train()"
   ]
  },
  {
   "cell_type": "code",
   "execution_count": 8,
   "id": "a068890a-482c-4c42-903b-e53dd6b809a3",
   "metadata": {},
   "outputs": [],
   "source": [
    "class Model(Module):\n",
    "    def __init__(self):\n",
    "        super().__init__()\n",
    "        self.activation = ReLU()\n",
    "        self.max_pool2d = MaxPool2d((2,2),(2,2))\n",
    "        self.conv1 = Conv2d(3,6,(3,3))\n",
    "        self.conv1batchnorm = BatchNorm2d(6)\n",
    "        self.conv2 = Conv2d(6,9,(3,3))\n",
    "        self.conv2batchnorm = BatchNorm2d(9)\n",
    "        self.conv3 = Conv2d(9,12,(3,3))\n",
    "        self.conv3batchnorm = BatchNorm2d(12)\n",
    "        self.linear1 = Linear(12*12*12,128)\n",
    "        self.linear1batchnorm = BatchNorm1d(128)\n",
    "        self.linear2 = Linear(128,256)\n",
    "        self.linear2batchnorm = BatchNorm1d(256)\n",
    "        self.linear3 = Linear(256,128)\n",
    "        self.linear3batchnorm = BatchNorm1d(128)\n",
    "        self.output = Linear(128,len(labels))\n",
    "\n",
    "    def forward(self,X):\n",
    "        preds = self.activation(self.max_pool2d(self.conv1batchnorm(self.conv1(X))))\n",
    "        preds = self.activation(self.max_pool2d(self.conv2batchnorm(self.conv2(preds))))\n",
    "        preds = self.activation(self.max_pool2d(self.conv3batchnorm(self.conv3(preds))))\n",
    "        preds = preds.view(-1,12*12*12)\n",
    "        preds = self.activation(self.linear1batchnorm(self.linear1(preds)))\n",
    "        preds = self.activation(self.linear2batchnorm(self.linear2(preds)))\n",
    "        preds = self.activation(self.linear3batchnorm(self.linear3(preds)))\n",
    "        preds = self.output(preds)\n",
    "        return preds"
   ]
  },
  {
   "cell_type": "code",
   "execution_count": 9,
   "id": "47949626-b4ed-4c38-8226-adb34502a391",
   "metadata": {},
   "outputs": [],
   "source": [
    "model = Model().to(device)"
   ]
  },
  {
   "cell_type": "code",
   "execution_count": 10,
   "id": "8ca73f75-4087-429d-b4e9-fadeb18cec84",
   "metadata": {},
   "outputs": [],
   "source": [
    "criterion = CrossEntropyLoss()"
   ]
  },
  {
   "cell_type": "code",
   "execution_count": 11,
   "id": "258ce50e-155d-4636-be45-8d43a144371c",
   "metadata": {},
   "outputs": [],
   "source": [
    "from torch.optim import *"
   ]
  },
  {
   "cell_type": "code",
   "execution_count": 12,
   "id": "e532e8f3-0435-456f-805c-121bcd66acd9",
   "metadata": {},
   "outputs": [],
   "source": [
    "optimizer = Adam(model.parameters(),lr=0.001)"
   ]
  },
  {
   "cell_type": "code",
   "execution_count": 13,
   "id": "904363fe-358a-466c-9c01-a803f3b80918",
   "metadata": {},
   "outputs": [],
   "source": [
    "epochs = 100"
   ]
  },
  {
   "cell_type": "code",
   "execution_count": 14,
   "id": "50619ce7-56d6-4859-8b64-3c36e2a0f6cb",
   "metadata": {},
   "outputs": [],
   "source": [
    "batch_size = 32"
   ]
  },
  {
   "cell_type": "code",
   "execution_count": null,
   "id": "eca451f6-2f9a-4f87-a159-b0ab9c7c8c42",
   "metadata": {},
   "outputs": [],
   "source": [
    "wandb.init(project=PROJECT_NAME,name='baseline')\n",
    "wandb.watch(model)\n",
    "for _ in tqdm(range(epochs)):\n",
    "    for idx in range(0,len(X_train),batch_size):\n",
    "        X_batch = X_train[idx:idx+batch_size].to(device).float().view(-1,3,112,112)\n",
    "        y_batch = y_train[idx:idx+batch_size].to(device).long()\n",
    "        preds = model(X_batch)\n",
    "        loss = criterion(preds,y_batch)\n",
    "        optimizer.zero_grad()\n",
    "        loss.backward()\n",
    "        optimizer.step()\n",
    "    wandb.log({'Loss':get_loss(model,X_train,y_train,criterion)})\n",
    "    wandb.log({'Val Loss':get_loss(model,X_test,y_test,criterion)})\n",
    "    wandb.log({'Acc':get_accuracy(model,X_train,y_train)})\n",
    "    wandb.log({'Val ACC':get_accuracy(model,X_test,y_test)})\n",
    "    get_pred(model)\n",
    "    for file in os.listdir('./preds/'):\n",
    "        wandb.log({f'Img/{file}':wandb.Image(cv2.imread(f'./preds/{file}'))})\n",
    "wandb.watch(model)\n",
    "wandb.finish()"
   ]
  },
  {
   "cell_type": "code",
   "execution_count": null,
   "id": "31ec639b-fa5e-4d53-af62-c4969f469d29",
   "metadata": {},
   "outputs": [],
   "source": []
  },
  {
   "cell_type": "code",
   "execution_count": null,
   "id": "098084c2-30ee-4b28-b2c8-f356cc872bd2",
   "metadata": {},
   "outputs": [],
   "source": []
  },
  {
   "cell_type": "code",
   "execution_count": null,
   "id": "2bde2751-8e72-4b76-85d9-35b8fc0bb1d9",
   "metadata": {},
   "outputs": [],
   "source": []
  },
  {
   "cell_type": "code",
   "execution_count": null,
   "id": "f06d4c59-f497-452c-ad4d-cee4babd151c",
   "metadata": {},
   "outputs": [],
   "source": []
  },
  {
   "cell_type": "code",
   "execution_count": null,
   "id": "567e59d4-9402-4830-85aa-00c145c1f9a4",
   "metadata": {},
   "outputs": [],
   "source": []
  },
  {
   "cell_type": "code",
   "execution_count": null,
   "id": "aa27a3a3-5ed8-48ed-bc89-927260076d31",
   "metadata": {},
   "outputs": [],
   "source": []
  },
  {
   "cell_type": "code",
   "execution_count": null,
   "id": "1c953dc2-8472-44ea-907b-0ebe9c8f6650",
   "metadata": {},
   "outputs": [],
   "source": []
  }
 ],
 "metadata": {
  "kernelspec": {
   "display_name": "Python 3.7.3 64-bit ('base': conda)",
   "language": "python",
   "name": "python373jvsc74a57bd0210f9608a45c0278a93c9e0b10db32a427986ab48cfc0d20c139811eb78c4bbc"
  },
  "language_info": {
   "codemirror_mode": {
    "name": "ipython",
    "version": 3
   },
   "file_extension": ".py",
   "mimetype": "text/x-python",
   "name": "python",
   "nbconvert_exporter": "python",
   "pygments_lexer": "ipython3",
   "version": "3.7.11"
  }
 },
 "nbformat": 4,
 "nbformat_minor": 5
}
